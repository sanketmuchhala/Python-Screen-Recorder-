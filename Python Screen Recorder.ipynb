{
 "cells": [
  {
   "cell_type": "code",
   "execution_count": 60,
   "id": "27f05560",
   "metadata": {},
   "outputs": [
    {
     "name": "stdout",
     "output_type": "stream",
     "text": [
      "Requirement already satisfied: Pillow in c:\\users\\sanke\\anaconda3\\envs\\myenv\\lib\\site-packages (9.1.1)\n"
     ]
    }
   ],
   "source": [
    "!pip install Pillow "
   ]
  },
  {
   "cell_type": "code",
   "execution_count": 79,
   "id": "d1ea635b",
   "metadata": {},
   "outputs": [],
   "source": [
    "from PIL import ImageGrab\n",
    "import numpy as np\n",
    "import cv2\n",
    "from win32api import GetSystemMetrics\n"
   ]
  },
  {
   "cell_type": "code",
   "execution_count": null,
   "id": "2cfe9494",
   "metadata": {},
   "outputs": [],
   "source": [
    "height, width = GetSystemMetrics(0),GetSystemMetrics(1)\n",
    "filename = f'abc.mp4'\n",
    "fourc = cv2.VideoWriter_fourcc('m','p','4','v')\n",
    "capture_video = cv2.VideoWriter(filename, fourc, 20.0, (width, height))\n",
    "\n",
    "while True:\n",
    "    img = ImageGrab.grab(bbox= (0,0, width, height))\n",
    "    img_np = np.array(img)\n",
    "    img_final = cv2.cvtColor(img_np,cv2.COLOR_BGR2RGB)\n",
    "    cv2.imshow(\"My Python Screen Recorder\",img_final)\n",
    "    capture_video.write(img_final)\n",
    "    \n",
    "    if cv2.waitKey(10) == ord('q'):\n",
    "        cv2.DestroyAllWindows()\n",
    "        break;"
   ]
  },
  {
   "cell_type": "code",
   "execution_count": null,
   "id": "c08b6df0",
   "metadata": {},
   "outputs": [],
   "source": []
  }
 ],
 "metadata": {
  "kernelspec": {
   "display_name": "Python 3 (ipykernel)",
   "language": "python",
   "name": "python3"
  },
  "language_info": {
   "codemirror_mode": {
    "name": "ipython",
    "version": 3
   },
   "file_extension": ".py",
   "mimetype": "text/x-python",
   "name": "python",
   "nbconvert_exporter": "python",
   "pygments_lexer": "ipython3",
   "version": "3.9.12"
  }
 },
 "nbformat": 4,
 "nbformat_minor": 5
}
